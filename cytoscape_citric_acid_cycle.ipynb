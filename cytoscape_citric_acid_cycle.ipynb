{
 "cells": [
  {
   "cell_type": "markdown",
   "source": [
    "# dash_cytoscape demo"
   ],
   "metadata": {
    "collapsed": false,
    "pycharm": {
     "name": "#%% md\n"
    }
   }
  },
  {
   "cell_type": "markdown",
   "source": [
    "[dash_cytocsape Reference](https://dash.plotly.com/cytoscape/reference)\n",
    "[Elements Json](https://js.cytoscape.org/#notation/elements-json)\n",
    "[Node body](https://js.cytoscape.org/#style/node-body)\n",
    "[selector](https://js.cytoscape.org/#selectors/group-class-amp-id)\n",
    "[Mappers](https://js.cytoscape.org/#style/mappers)"
   ],
   "metadata": {
    "collapsed": false
   }
  },
  {
   "cell_type": "code",
   "execution_count": 1,
   "outputs": [],
   "source": [
    "import dash_cytoscape as cyto\n",
    "import dash_html_components as html\n",
    "from jupyter_dash import JupyterDash"
   ],
   "metadata": {
    "collapsed": false,
    "pycharm": {
     "name": "#%%\n"
    }
   }
  },
  {
   "cell_type": "code",
   "execution_count": 2,
   "outputs": [],
   "source": [
    "app = JupyterDash()"
   ],
   "metadata": {
    "collapsed": false,
    "pycharm": {
     "name": "#%%\n"
    }
   }
  },
  {
   "cell_type": "code",
   "execution_count": 3,
   "outputs": [
    {
     "data": {
      "text/plain": "<IPython.lib.display.IFrame at 0x108458df0>",
      "text/html": "\n        <iframe\n            width=\"100%\"\n            height=\"650\"\n            src=\"http://127.0.0.1:8061/\"\n            frameborder=\"0\"\n            allowfullscreen\n        ></iframe>\n        "
     },
     "metadata": {},
     "output_type": "display_data"
    }
   ],
   "source": [
    "STYLESHEET = [\n",
    "    {\n",
    "        # Node style\n",
    "        'selector':'node',\n",
    "        'style':{\n",
    "            'background-color':'yellow',\n",
    "            'shape':'barrel',\n",
    "            'content': 'data(label)',\n",
    "            'text-valign': 'center',\n",
    "            'text-halign': 'center',\n",
    "            'width': 'label',\n",
    "            'height': 'label',\n",
    "            'padding': '2px',\n",
    "            'border-width': 0.5,\n",
    "        }\n",
    "    }\n",
    "]\n",
    "\n",
    "ELEMENTS = [\n",
    "    #The node elements\n",
    "    {'data': {'id':'citrate', 'label':'Citrate'}},\n",
    "    {'data': {'id':'cis-aconitate', 'label':'cis-Aconitate'}},\n",
    "    {'data': {'id':'isocitrate', 'label':'Isocitrate'}},\n",
    "    {'data': {'id':'ketoglutarate', 'label':'Alpha-Ketoglutarate'}},\n",
    "    {'data': {'id':'succinylcoa', 'label':'Succinyl-CoA'}},\n",
    "    {'data': {'id':'succinate', 'label':'Succinate'}},\n",
    "    {'data': {'id':'fumarate', 'label':'Fumarate'}},\n",
    "    {'data': {'id':'lmalate', 'label':'L-Malate'}},\n",
    "    {'data': {'id':'oxaloacetate', 'label':'Oxaloacetate'}},\n",
    "    #The edge elements\n",
    "    {'data': {'source': 'citrate', 'target': 'cis-aconitate'}},\n",
    "    {'data': {'source': 'cis-aconitate', 'target': 'isocitrate'}},\n",
    "    {'data': {'source': 'isocitrate', 'target': 'ketoglutarate'}},\n",
    "    {'data': {'source': 'ketoglutarate', 'target': 'succinylcoa'}},\n",
    "    {'data': {'source': 'succinylcoa', 'target': 'succinate'}},\n",
    "    {'data': {'source': 'succinate', 'target': 'fumarate'}},\n",
    "    {'data': {'source': 'fumarate', 'target': 'lmalate'}},\n",
    "    {'data': {'source': 'lmalate', 'target': 'oxaloacetate'}},\n",
    "    {'data': {'source': 'oxaloacetate', 'target': 'citrate'}},\n",
    "\n",
    "]\n",
    "\n",
    "app.layout = html.Div(children=[\n",
    "    html.H1('Citric Acid Cycle'),\n",
    "    cyto.Cytoscape(\n",
    "        id='cytoscape-elements-basic',\n",
    "        layout={'name': 'circle'},\n",
    "        style=dict(\n",
    "            width='100%',\n",
    "            height='600px'\n",
    "        ),\n",
    "        stylesheet = STYLESHEET,\n",
    "        elements = ELEMENTS,\n",
    "    )\n",
    "])\n",
    "\n",
    "app.run_server(mode='inline',port=8061)"
   ],
   "metadata": {
    "collapsed": false,
    "pycharm": {
     "name": "#%%\n"
    }
   }
  }
 ],
 "metadata": {
  "kernelspec": {
   "display_name": "Python 3",
   "language": "python",
   "name": "python3"
  },
  "language_info": {
   "codemirror_mode": {
    "name": "ipython",
    "version": 2
   },
   "file_extension": ".py",
   "mimetype": "text/x-python",
   "name": "python",
   "nbconvert_exporter": "python",
   "pygments_lexer": "ipython2",
   "version": "2.7.6"
  }
 },
 "nbformat": 4,
 "nbformat_minor": 0
}